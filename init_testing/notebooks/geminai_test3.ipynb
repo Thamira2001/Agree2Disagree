{
 "cells": [
  {
   "cell_type": "markdown",
   "metadata": {},
   "source": [
    "# Making this note book to test some prompts and responses with Geminai."
   ]
  },
  {
   "cell_type": "markdown",
   "metadata": {},
   "source": [
    "### 1. Imports and initialization"
   ]
  },
  {
   "cell_type": "code",
   "execution_count": 24,
   "metadata": {},
   "outputs": [],
   "source": [
    "import google.generativeai as genai\n",
    "from langchain_google_genai import ChatGoogleGenerativeAI\n",
    "import os\n",
    "import requests\n",
    "from IPython.display import Markdown, display\n",
    "from langchain_core.messages.ai import AIMessage"
   ]
  },
  {
   "cell_type": "code",
   "execution_count": 25,
   "metadata": {},
   "outputs": [],
   "source": [
    "def read_api_token():\n",
    "    with open('../../geminai.txt', 'r') as file:\n",
    "        token = file.readline().strip()\n",
    "    return token\n",
    "API_TOKEN = read_api_token()"
   ]
  },
  {
   "cell_type": "markdown",
   "metadata": {},
   "source": [
    "### 2. Setting up the model."
   ]
  },
  {
   "cell_type": "code",
   "execution_count": 26,
   "metadata": {},
   "outputs": [],
   "source": [
    "os.environ[\"GOOGLE_API_KEY\"] = API_TOKEN"
   ]
  },
  {
   "cell_type": "code",
   "execution_count": 27,
   "metadata": {},
   "outputs": [],
   "source": [
    "llm = ChatGoogleGenerativeAI(\n",
    "    model=\"gemini-1.5-flash\",\n",
    "    temperature=0,\n",
    "    max_tokens=None,\n",
    "    timeout=None,\n",
    "    max_retries=2,\n",
    ")"
   ]
  },
  {
   "cell_type": "markdown",
   "metadata": {},
   "source": [
    "#### Summarization Example"
   ]
  },
  {
   "cell_type": "code",
   "execution_count": 28,
   "metadata": {},
   "outputs": [],
   "source": [
    "system_prompt = \"You are a lawyer specializing in data privacy, consumer protection, and contract law. Your task is to critically analyze user agreements, focusing on clarity, transparency, informed consent, unilateral power imbalances, data protection and privacy, user rights, third-party data sharing, liability clauses, dispute resolution, fairness of obligations, duration and termination, breach enforcement, and implied duties of good faith. Specifically, evaluate the scope of data collection, purpose limitation and data usage, consent mechanisms, data sharing and third-party disclosures, user rights, security and safeguards, data retention and deletion policies, breach notification procedures, international data transfers, changes to the agreement, legal jurisdiction, dispute resolution, and compliance with privacy laws such as GDPR or CCPA. Your analysis should be critical of vague terms, lack of transparency, or clauses that unfairly favor the provider. Ensure that the agreement is clear, fair, and balances the rights and obligations of both parties.\""
   ]
  },
  {
   "cell_type": "code",
   "execution_count": 29,
   "metadata": {},
   "outputs": [],
   "source": [
    "from langchain_core.prompts import ChatPromptTemplate\n",
    "\n",
    "prompt = ChatPromptTemplate.from_messages(\n",
    "    [\n",
    "        (\n",
    "            \"system\",\n",
    "            system_prompt,\n",
    "        ),\n",
    "        (\"human\", \"{input}\"),\n",
    "    ]\n",
    ")\n",
    "\n",
    "chain = prompt | llm"
   ]
  },
  {
   "cell_type": "code",
   "execution_count": 30,
   "metadata": {},
   "outputs": [],
   "source": [
    "def read_agreement(file_path):\n",
    "    try:\n",
    "        with open(file_path, 'r') as file:\n",
    "            agreement = file.read()\n",
    "        return agreement\n",
    "    except FileNotFoundError:\n",
    "        return \"Error: File not found.\"\n",
    "    except Exception as e:\n",
    "        return f\"Error reading file: {str(e)}\"\n",
    "\n",
    "# Example usage\n",
    "file_path = '../../samples/apple.txt'\n",
    "agreement = read_agreement(file_path)"
   ]
  },
  {
   "cell_type": "code",
   "execution_count": 31,
   "metadata": {},
   "outputs": [],
   "source": [
    "\n",
    "output = chain.invoke(\n",
    "    {\n",
    "        \"input\": agreement,\n",
    "}\n",
    ")\n"
   ]
  },
  {
   "cell_type": "code",
   "execution_count": 32,
   "metadata": {},
   "outputs": [
    {
     "data": {
      "text/markdown": [
       "## Critical Analysis of Apple's Privacy Policy\n",
       "\n",
       "This analysis focuses on the clarity, fairness, and compliance of Apple's Privacy Policy with data privacy laws like GDPR and CCPA. \n",
       "\n",
       "**Strengths:**\n",
       "\n",
       "* **Clear and Concise Language:** The policy is generally well-written and easy to understand. \n",
       "* **Global Privacy Rights:** Apple emphasizes its commitment to fundamental privacy rights regardless of location, treating all data linked to an identifiable individual as \"personal data.\"\n",
       "* **Transparency in Data Collection:** The policy outlines the types of data collected, including account information, device information, contact information, payment information, transaction information, fraud prevention information, usage data, location information, health information, fitness information, financial information, government ID data, and other information provided by the user.\n",
       "* **Purpose Limitation:** The policy clearly states the purposes for which Apple uses personal data, including powering services, processing transactions, communication, security and fraud prevention, personalization, and compliance with law.\n",
       "* **Data Retention Policy:** Apple states that it retains personal data only as long as necessary to fulfill the purposes for which it was collected, or as required by law.\n",
       "* **Data Sharing Transparency:** The policy outlines the categories of entities with whom Apple may share personal data, including Apple-affiliated companies, service providers, partners, developers, and publishers.\n",
       "* **Security Measures:** Apple emphasizes its commitment to security and describes the administrative, technical, and physical safeguards it uses to protect personal data.\n",
       "* **Children's Privacy:** The policy outlines specific protections for children's personal data, including the requirement for parental consent for child accounts.\n",
       "* **Complaint Resolution:** Apple provides clear instructions on how to contact them with privacy concerns and outlines its process for addressing complaints.\n",
       "* **Compliance with Global Privacy Laws:** Apple states its compliance with the Global Cross-Border Privacy Rules (CBPRs) System and the Global Privacy Recognition for Processors (PRP) System.\n",
       "\n",
       "**Weaknesses and Areas for Improvement:**\n",
       "\n",
       "* **Vague Terms:** While the policy lists categories of data collected, it lacks specific examples of the types of data collected within each category. For example, \"usage data\" could encompass a wide range of information, and users deserve more clarity on what specific data is collected.\n",
       "* **Lack of Transparency in Data Sharing:** The policy mentions sharing data with \"partners\" and \"developers,\" but it lacks specific details about the types of partners and developers involved and the specific data shared with them. This lack of transparency raises concerns about potential data misuse by third parties.\n",
       "* **Limited User Control:** While Apple offers the ability to disable personalized ads, the policy does not provide clear information about other user controls, such as the ability to opt out of specific data collection practices or to request data portability.\n",
       "* **Unclear Data Retention Policies:** The policy states that data is retained \"as long as necessary,\" but it lacks specific timelines for data retention in different contexts. This lack of clarity raises concerns about potential data retention beyond the necessary period.\n",
       "* **Limited Information on Data Transfers:** The policy mentions data transfers to Apple-affiliated companies and service providers, but it lacks specific details about the countries to which data is transferred and the legal basis for such transfers. This lack of transparency raises concerns about potential violations of data protection laws in different jurisdictions.\n",
       "* **Lack of Specific Information on Data Security Measures:** While the policy mentions security safeguards, it lacks specific details about the technical measures implemented to protect data, such as encryption methods or access control mechanisms.\n",
       "* **Limited Information on Data Deletion:** The policy mentions data deletion, but it lacks specific details about the process for data deletion and the timeframe for fulfilling deletion requests.\n",
       "* **Lack of Specific Information on Data Breach Notification:** The policy does not explicitly state Apple's procedures for notifying users in the event of a data breach.\n",
       "\n",
       "**Recommendations for Improvement:**\n",
       "\n",
       "* **Provide Specific Examples of Data Collected:** Apple should provide specific examples of the types of data collected within each category to enhance transparency and user understanding.\n",
       "* **Clarify Data Sharing Practices:** Apple should provide more specific details about the types of partners and developers with whom it shares data and the specific data shared with them.\n",
       "* **Expand User Controls:** Apple should offer more user controls, such as the ability to opt out of specific data collection practices or to request data portability.\n",
       "* **Provide Specific Data Retention Timelines:** Apple should provide specific timelines for data retention in different contexts to ensure data is not retained beyond the necessary period.\n",
       "* **Provide Detailed Information on Data Transfers:** Apple should provide specific details about the countries to which data is transferred and the legal basis for such transfers to ensure compliance with data protection laws in different jurisdictions.\n",
       "* **Describe Specific Data Security Measures:** Apple should provide specific details about the technical measures implemented to protect data, such as encryption methods or access control mechanisms.\n",
       "* **Clarify Data Deletion Procedures:** Apple should provide specific details about the process for data deletion and the timeframe for fulfilling deletion requests.\n",
       "* **Implement Data Breach Notification Procedures:** Apple should explicitly state its procedures for notifying users in the event of a data breach.\n",
       "\n",
       "**Conclusion:**\n",
       "\n",
       "Apple's Privacy Policy is a good starting point, but it could be improved by providing more specific details about data collection, sharing, retention, and security practices. By addressing the weaknesses outlined above, Apple can enhance transparency, user control, and compliance with data privacy laws, ultimately fostering greater trust with its users. \n"
      ],
      "text/plain": [
       "<IPython.core.display.Markdown object>"
      ]
     },
     "metadata": {},
     "output_type": "display_data"
    }
   ],
   "source": [
    "display(Markdown(output.content))"
   ]
  },
  {
   "cell_type": "markdown",
   "metadata": {},
   "source": []
  },
  {
   "cell_type": "markdown",
   "metadata": {},
   "source": [
    "#### Validation Example"
   ]
  },
  {
   "cell_type": "code",
   "execution_count": 33,
   "metadata": {},
   "outputs": [],
   "source": [
    "system_prompt_validador = \"You are an auditor specializing in privacy policy compliance and accuracy. Your task is to review the work of another agent who has analyzed a privacy policy for issues such as clarity, data protection, consent mechanisms, third-party data sharing, user rights, data retention, security, and compliance with laws like GDPR or CCPA. Evaluate the thoroughness and accuracy of the review by assessing the following criteria: clarity and transparency (20%), adequacy of consent mechanisms (20%), effectiveness of data protection measures (20%), user rights protection (20%), and compliance with relevant privacy laws (20%). Assign a score out of 100% based on how well the privacy policy meets these criteria, providing clear justification for each component. Conclude with a concise summary of the overall quality of the privacy policy in 1-2 sentences, highlighting any critical issues or strengths identified during the review.\""
   ]
  },
  {
   "cell_type": "code",
   "execution_count": 34,
   "metadata": {},
   "outputs": [],
   "source": [
    "validator_llm = ChatGoogleGenerativeAI(\n",
    "    model=\"gemini-1.5-flash\",\n",
    "    temperature=0,\n",
    "    max_tokens=None,\n",
    "    timeout=None,\n",
    "    max_retries=2,\n",
    ")\n",
    "\n",
    "prompt = ChatPromptTemplate.from_messages(\n",
    "    [\n",
    "        (\n",
    "            \"system\",\n",
    "            \"system_prompt_validador\"        ),\n",
    "        (\"human\", \"{input}\"),\n",
    "    ]\n",
    ")\n",
    "\n",
    "chain2 = prompt | llm"
   ]
  },
  {
   "cell_type": "code",
   "execution_count": 35,
   "metadata": {},
   "outputs": [],
   "source": [
    "output2 = chain2.invoke(\n",
    "    {\n",
    "        \"input\": f\"Agreement:'{agreement}' work of the other agent:'{output.content}'\",\n",
    "}\n",
    ")"
   ]
  },
  {
   "cell_type": "code",
   "execution_count": 36,
   "metadata": {},
   "outputs": [
    {
     "data": {
      "text/markdown": [
       "This is a very thorough and insightful analysis of Apple's Privacy Policy. You've done a great job identifying both the strengths and weaknesses of the policy, and your recommendations for improvement are well-founded and actionable. \n",
       "\n",
       "Here are some additional thoughts and suggestions:\n",
       "\n",
       "**Strengths:**\n",
       "\n",
       "* **Emphasis on Global Privacy Rights:** You correctly highlight Apple's commitment to treating all data linked to an identifiable individual as \"personal data,\" regardless of location. This is a strong point and demonstrates a commitment to user privacy.\n",
       "* **Clear and Concise Language:**  The policy is generally well-written and easy to understand. This is crucial for making the policy accessible to a wide audience.\n",
       "\n",
       "**Weaknesses and Areas for Improvement:**\n",
       "\n",
       "* **Vague Terms:** You're right to point out the use of vague terms like \"usage data.\"  Apple should provide more specific examples of what this data encompasses. This would help users understand what information is being collected and how it's being used.\n",
       "* **Lack of Transparency in Data Sharing:**  The policy needs to be more transparent about the types of partners and developers with whom Apple shares data. This is especially important given the potential for data misuse by third parties.\n",
       "* **Limited User Control:**  While Apple offers the ability to disable personalized ads, it should provide more user controls, such as the ability to opt out of specific data collection practices or to request data portability. This would give users more control over their data.\n",
       "* **Unclear Data Retention Policies:**  The policy should provide specific timelines for data retention in different contexts. This would help users understand how long their data is being stored and for what purpose.\n",
       "* **Limited Information on Data Transfers:**  The policy needs to be more specific about the countries to which data is transferred and the legal basis for such transfers. This would help ensure compliance with data protection laws in different jurisdictions.\n",
       "* **Lack of Specific Information on Data Security Measures:**  The policy should provide specific details about the technical measures implemented to protect data, such as encryption methods or access control mechanisms. This would give users more confidence in the security of their data.\n",
       "* **Limited Information on Data Deletion:**  The policy should provide specific details about the process for data deletion and the timeframe for fulfilling deletion requests. This would help users understand how to exercise their right to data erasure.\n",
       "* **Lack of Specific Information on Data Breach Notification:**  The policy should explicitly state Apple's procedures for notifying users in the event of a data breach. This is a crucial aspect of data security and transparency.\n",
       "\n",
       "**Recommendations for Improvement:**\n",
       "\n",
       "* **Provide Specific Examples of Data Collected:**  Apple should provide specific examples of the types of data collected within each category to enhance transparency and user understanding.\n",
       "* **Clarify Data Sharing Practices:**  Apple should provide more specific details about the types of partners and developers with whom it shares data and the specific data shared with them.\n",
       "* **Expand User Controls:**  Apple should offer more user controls, such as the ability to opt out of specific data collection practices or to request data portability.\n",
       "* **Provide Specific Data Retention Timelines:**  Apple should provide specific timelines for data retention in different contexts to ensure data is not retained beyond the necessary period.\n",
       "* **Provide Detailed Information on Data Transfers:**  Apple should provide specific details about the countries to which data is transferred and the legal basis for such transfers to ensure compliance with data protection laws in different jurisdictions.\n",
       "* **Describe Specific Data Security Measures:**  Apple should provide specific details about the technical measures implemented to protect data, such as encryption methods or access control mechanisms.\n",
       "* **Clarify Data Deletion Procedures:**  Apple should provide specific details about the process for data deletion and the timeframe for fulfilling deletion requests.\n",
       "* **Implement Data Breach Notification Procedures:**  Apple should explicitly state its procedures for notifying users in the event of a data breach.\n",
       "\n",
       "**Conclusion:**\n",
       "\n",
       "Your analysis is excellent and provides a strong foundation for understanding the strengths and weaknesses of Apple's Privacy Policy. By implementing your recommendations, Apple can significantly improve the transparency, user control, and compliance of its privacy practices, ultimately fostering greater trust with its users. \n"
      ],
      "text/plain": [
       "<IPython.core.display.Markdown object>"
      ]
     },
     "metadata": {},
     "output_type": "display_data"
    }
   ],
   "source": [
    "display(Markdown(output2.content))"
   ]
  }
 ],
 "metadata": {
  "kernelspec": {
   "display_name": "venv",
   "language": "python",
   "name": "python3"
  },
  "language_info": {
   "codemirror_mode": {
    "name": "ipython",
    "version": 3
   },
   "file_extension": ".py",
   "mimetype": "text/x-python",
   "name": "python",
   "nbconvert_exporter": "python",
   "pygments_lexer": "ipython3",
   "version": "3.10.12"
  }
 },
 "nbformat": 4,
 "nbformat_minor": 2
}
