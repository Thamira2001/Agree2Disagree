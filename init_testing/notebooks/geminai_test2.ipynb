{
 "cells": [
  {
   "cell_type": "markdown",
   "metadata": {},
   "source": [
    "# Making this note book to test some prompts and responses with Geminai."
   ]
  },
  {
   "cell_type": "markdown",
   "metadata": {},
   "source": [
    "### 1. Imports and initialization"
   ]
  },
  {
   "cell_type": "code",
   "execution_count": 28,
   "metadata": {},
   "outputs": [],
   "source": [
    "import google.generativeai as genai\n",
    "from langchain_google_genai import ChatGoogleGenerativeAI\n",
    "import os\n",
    "import requests\n",
    "from IPython.display import Markdown, display\n",
    "from langchain_core.messages.ai import AIMessage"
   ]
  },
  {
   "cell_type": "code",
   "execution_count": 29,
   "metadata": {},
   "outputs": [],
   "source": [
    "def read_api_token():\n",
    "    with open('../../geminai.txt', 'r') as file:\n",
    "        token = file.readline().strip()\n",
    "    return token\n",
    "API_TOKEN = read_api_token()"
   ]
  },
  {
   "cell_type": "markdown",
   "metadata": {},
   "source": [
    "### 2. Setting up the model."
   ]
  },
  {
   "cell_type": "code",
   "execution_count": 30,
   "metadata": {},
   "outputs": [],
   "source": [
    "os.environ[\"GOOGLE_API_KEY\"] = API_TOKEN"
   ]
  },
  {
   "cell_type": "code",
   "execution_count": 31,
   "metadata": {},
   "outputs": [],
   "source": [
    "llm = ChatGoogleGenerativeAI(\n",
    "    model=\"gemini-1.5-flash\",\n",
    "    temperature=0,\n",
    "    max_tokens=None,\n",
    "    timeout=None,\n",
    "    max_retries=2,\n",
    ")"
   ]
  },
  {
   "cell_type": "markdown",
   "metadata": {},
   "source": [
    "#### Summarization Example"
   ]
  },
  {
   "cell_type": "code",
   "execution_count": 32,
   "metadata": {},
   "outputs": [],
   "source": [
    "from langchain_core.prompts import ChatPromptTemplate\n",
    "\n",
    "prompt = ChatPromptTemplate.from_messages(\n",
    "    [\n",
    "        (\n",
    "            \"system\",\n",
    "            \"Summarize the user input like a lowyer and give it in point wise so that a 16 year old can understand.\",\n",
    "        ),\n",
    "        (\"human\", \"{input}\"),\n",
    "    ]\n",
    ")\n",
    "\n",
    "chain = prompt | llm"
   ]
  },
  {
   "cell_type": "code",
   "execution_count": 33,
   "metadata": {},
   "outputs": [],
   "source": [
    "def read_agreement(file_path):\n",
    "    try:\n",
    "        with open(file_path, 'r') as file:\n",
    "            agreement = file.read()\n",
    "        return agreement\n",
    "    except FileNotFoundError:\n",
    "        return \"Error: File not found.\"\n",
    "    except Exception as e:\n",
    "        return f\"Error reading file: {str(e)}\"\n",
    "\n",
    "# Example usage\n",
    "file_path = '../../samples/apple.txt'\n",
    "agreement = read_agreement(file_path)"
   ]
  },
  {
   "cell_type": "code",
   "execution_count": 34,
   "metadata": {},
   "outputs": [],
   "source": [
    "\n",
    "output = chain.invoke(\n",
    "    {\n",
    "        \"input\": agreement,\n",
    "}\n",
    ")\n"
   ]
  },
  {
   "cell_type": "code",
   "execution_count": 35,
   "metadata": {},
   "outputs": [
    {
     "data": {
      "text/markdown": [
       "Here's a breakdown of Apple's Privacy Policy, explained in a way a 16-year-old can understand:\n",
       "\n",
       "**1. What Information Does Apple Collect?**\n",
       "\n",
       "* **Account Info:** Your Apple ID, email, devices you use, and age.\n",
       "* **Device Info:** Your device's serial number, browser type, and other details.\n",
       "* **Contact Info:** Your name, email, address, phone number, etc.\n",
       "* **Payment Info:** Billing address and payment methods (like credit card details).\n",
       "* **Transaction Info:** Purchases you make from Apple, like apps or music.\n",
       "* **Fraud Prevention Info:** Data to help Apple stop fraud, like a device trust score.\n",
       "* **Usage Data:** How you use Apple products and services, like what apps you open, what you search for, and how you interact with things.\n",
       "* **Location Info:** Your precise location if you use services like Find My, or general location if you agree to region-specific services.\n",
       "* **Health Info:** Data about your health, like fitness data, if you choose to share it.\n",
       "* **Financial Info:** Details about your income and assets, if you use Apple financial services.\n",
       "* **Government ID Data:** In some cases, Apple might ask for your ID, like when setting up a wireless account or for credit.\n",
       "* **Other Info:** Anything else you provide to Apple, like messages you send to customer support.\n",
       "\n",
       "**2. Why Does Apple Collect This Information?**\n",
       "\n",
       "* **To Provide Services:** Apple needs your information to run its services, like Apple Music or the App Store.\n",
       "* **To Process Transactions:** Apple needs your payment info to process purchases.\n",
       "* **To Communicate with You:** Apple uses your contact info to send you updates, notifications, and marketing messages.\n",
       "* **For Security and Fraud Prevention:** Apple uses your data to protect you and its services from fraud and other threats.\n",
       "* **To Personalize Your Experience:** Apple uses your data to tailor its services to your preferences.\n",
       "* **To Comply with Laws:** Apple may need to collect your data to comply with legal requirements.\n",
       "\n",
       "**3. What Does Apple Do with Your Information?**\n",
       "\n",
       "* **Shares with Affiliated Companies:** Apple may share your data with other Apple companies.\n",
       "* **Shares with Service Providers:** Apple may share your data with companies that help it run its services.\n",
       "* **Shares with Partners:** Apple may share your data with companies it partners with, like those offering Apple financial services.\n",
       "* **Shares with Developers and Publishers:** Apple may share limited data with developers and publishers if you subscribe to their services.\n",
       "* **Shares with Others at Your Direction:** Apple will share your data with others if you tell it to.\n",
       "* **Shares for Legal Reasons:** Apple may share your data if required by law or for security reasons.\n",
       "\n",
       "**4. How Does Apple Protect Your Information?**\n",
       "\n",
       "* **Security Measures:** Apple uses various security measures to protect your data, like encryption and access controls.\n",
       "* **Child Protection:** Apple has special measures in place to protect the data of children under 13.\n",
       "\n",
       "**5. Your Privacy Rights:**\n",
       "\n",
       "* **Access and Correct Your Data:** You can access and correct your data through Apple's privacy website.\n",
       "* **Delete Your Data:** You can request to delete your data, but there may be exceptions, like if Apple is legally required to keep it.\n",
       "* **Restrict Processing:** You can restrict how Apple uses your data in some cases.\n",
       "* **Withdraw Consent:** You can withdraw your consent to Apple using your data at any time.\n",
       "* **File a Complaint:** You can file a complaint with the relevant authorities if you believe Apple has violated your privacy rights.\n",
       "\n",
       "**6. Important Points to Remember:**\n",
       "\n",
       "* **Third-Party Apps:** Apple's Privacy Policy doesn't apply to third-party apps you download. Read their privacy policies too.\n",
       "* **Cookies:** Apple uses cookies to track your activity on its websites. You can disable cookies in your browser settings.\n",
       "* **Personalized Ads:** Apple uses your data to show you personalized ads. You can opt out of personalized ads in your device settings.\n",
       "* **Data Transfers:** Apple may transfer your data to other countries, but it takes steps to protect your data wherever it is.\n",
       "\n",
       "**7. Contact Apple:**\n",
       "\n",
       "* If you have any questions about Apple's Privacy Policy, you can contact Apple through its website or by phone.\n",
       "\n",
       "This is a simplified explanation of Apple's Privacy Policy. It's important to read the full policy for a complete understanding of how Apple handles your data. \n"
      ],
      "text/plain": [
       "<IPython.core.display.Markdown object>"
      ]
     },
     "metadata": {},
     "output_type": "display_data"
    }
   ],
   "source": [
    "display(Markdown(output.content))"
   ]
  },
  {
   "cell_type": "markdown",
   "metadata": {},
   "source": []
  },
  {
   "cell_type": "markdown",
   "metadata": {},
   "source": [
    "#### Validation Example"
   ]
  },
  {
   "cell_type": "code",
   "execution_count": 36,
   "metadata": {},
   "outputs": [],
   "source": [
    "validator_llm = ChatGoogleGenerativeAI(\n",
    "    model=\"gemini-1.5-flash\",\n",
    "    temperature=0,\n",
    "    max_tokens=None,\n",
    "    timeout=None,\n",
    "    max_retries=2,\n",
    ")\n",
    "\n",
    "prompt = ChatPromptTemplate.from_messages(\n",
    "    [\n",
    "        (\n",
    "            \"system\",\n",
    "            \"Text 1 is the original agreement, and Text 2 is the summary of the agreement. Thoroughly compare both documents, analyzing them with the detail and precision of a lawyer. Identify whether the summary accurately reflects the key points of the agreement. Provide a percentage accuracy score based on how well Text 2 captures the main content, obligations, and nuances of Text 1.\",\n",
    "        ),\n",
    "        (\"human\", \"{input}\"),\n",
    "    ]\n",
    ")\n",
    "\n",
    "chain2 = prompt | llm"
   ]
  },
  {
   "cell_type": "code",
   "execution_count": 37,
   "metadata": {},
   "outputs": [],
   "source": [
    "output2 = chain2.invoke(\n",
    "    {\n",
    "        \"input\": f\"Text1:'{agreement}' Text2:'{output.content}'\",\n",
    "}\n",
    ")"
   ]
  },
  {
   "cell_type": "code",
   "execution_count": 38,
   "metadata": {},
   "outputs": [
    {
     "data": {
      "text/markdown": [
       "## Analysis of Apple Privacy Policy Summary\n",
       "\n",
       "Text 2, the summary, provides a simplified overview of Apple's Privacy Policy (Text 1). While it captures the essence of many key points, it lacks the depth and precision of the original document. Here's a detailed comparison:\n",
       "\n",
       "**Accuracy:**\n",
       "\n",
       "* **Data Collection:** Text 2 accurately lists the categories of data Apple collects, but it omits some nuances. For example, it doesn't mention that Apple collects data about device trust scores for fraud prevention, or that it collects financial information only when related to Apple-branded financial offerings.\n",
       "* **Data Usage:** Text 2 accurately outlines the main purposes for which Apple uses data, but it doesn't mention the legal basis for processing data (consent, contract, legitimate interests, etc.). It also doesn't mention Apple's commitment to not using algorithms for decisions that significantly affect users without human review.\n",
       "* **Data Sharing:** Text 2 accurately describes the categories of entities with whom Apple shares data, but it doesn't mention the specific types of data shared with each category. For example, it doesn't mention that Apple shares Subscriber IDs with developers and publishers, or that it may disclose information for national security or law enforcement purposes.\n",
       "* **Privacy Rights:** Text 2 accurately summarizes the main privacy rights users have, but it doesn't mention the specific process for exercising these rights (e.g., visiting privacy.apple.com, contacting Apple directly). It also doesn't mention the potential limitations on these rights, such as when Apple is legally obligated to retain data.\n",
       "* **Security and Children:** Text 2 accurately mentions Apple's security measures and child protection policies, but it doesn't provide specific details about these measures.\n",
       "* **Cookies and Advertising:** Text 2 accurately describes Apple's use of cookies and personalized ads, but it doesn't mention the different types of cookies used or the option to disable Allow Apps to Request to Track.\n",
       "* **Data Transfers:** Text 2 accurately mentions data transfers to other countries, but it doesn't mention Apple's compliance with laws on data transfer or the specific entities controlling data in different jurisdictions.\n",
       "\n",
       "**Overall Accuracy Score:** 70%\n",
       "\n",
       "**Strengths:**\n",
       "\n",
       "* **Clear and Concise:** Text 2 is written in a simple and easy-to-understand language, making it accessible to a wider audience.\n",
       "* **Categorical Structure:** The summary is organized into clear categories, making it easy to navigate and find specific information.\n",
       "* **Key Points Covered:** Text 2 covers the most important aspects of Apple's Privacy Policy, including data collection, usage, sharing, privacy rights, security, and children's data protection.\n",
       "\n",
       "**Weaknesses:**\n",
       "\n",
       "* **Lack of Detail:** Text 2 lacks the depth and precision of the original document, omitting important nuances and details.\n",
       "* **Limited Legal Context:** The summary doesn't provide sufficient information about the legal basis for data processing or the limitations on user rights.\n",
       "* **Omission of Specific Information:** Text 2 omits specific information about Apple's security measures, child protection policies, cookie types, and data transfer mechanisms.\n",
       "\n",
       "**Conclusion:**\n",
       "\n",
       "Text 2 provides a useful overview of Apple's Privacy Policy, but it should not be considered a substitute for the full document. Users who want a comprehensive understanding of Apple's data practices should refer to the original Privacy Policy. \n"
      ],
      "text/plain": [
       "<IPython.core.display.Markdown object>"
      ]
     },
     "metadata": {},
     "output_type": "display_data"
    }
   ],
   "source": [
    "display(Markdown(output2.content))"
   ]
  }
 ],
 "metadata": {
  "kernelspec": {
   "display_name": "venv",
   "language": "python",
   "name": "python3"
  },
  "language_info": {
   "codemirror_mode": {
    "name": "ipython",
    "version": 3
   },
   "file_extension": ".py",
   "mimetype": "text/x-python",
   "name": "python",
   "nbconvert_exporter": "python",
   "pygments_lexer": "ipython3",
   "version": "3.10.12"
  }
 },
 "nbformat": 4,
 "nbformat_minor": 2
}
