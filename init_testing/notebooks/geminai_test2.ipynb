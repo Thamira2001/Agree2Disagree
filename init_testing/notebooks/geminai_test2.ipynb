{
 "cells": [
  {
   "cell_type": "markdown",
   "metadata": {},
   "source": [
    "# Making this note book to test some prompts and responses with Geminai."
   ]
  },
  {
   "cell_type": "markdown",
   "metadata": {},
   "source": [
    "### 1. Imports and initialization"
   ]
  },
  {
   "cell_type": "code",
   "execution_count": 12,
   "metadata": {},
   "outputs": [],
   "source": [
    "import google.generativeai as genai\n",
    "from langchain_google_genai import ChatGoogleGenerativeAI\n",
    "import os\n",
    "import requests\n",
    "from IPython.display import Markdown, display\n",
    "from langchain_core.messages.ai import AIMessage"
   ]
  },
  {
   "cell_type": "code",
   "execution_count": 13,
   "metadata": {},
   "outputs": [],
   "source": [
    "def read_api_token():\n",
    "    with open('../../geminai.txt', 'r') as file:\n",
    "        token = file.readline().strip()\n",
    "    return token\n",
    "API_TOKEN = read_api_token()"
   ]
  },
  {
   "cell_type": "markdown",
   "metadata": {},
   "source": [
    "### 2. Setting up the model."
   ]
  },
  {
   "cell_type": "code",
   "execution_count": 14,
   "metadata": {},
   "outputs": [],
   "source": [
    "os.environ[\"GOOGLE_API_KEY\"] = API_TOKEN"
   ]
  },
  {
   "cell_type": "code",
   "execution_count": 15,
   "metadata": {},
   "outputs": [],
   "source": [
    "llm = ChatGoogleGenerativeAI(\n",
    "    model=\"gemini-1.5-flash\",\n",
    "    temperature=0,\n",
    "    max_tokens=None,\n",
    "    timeout=None,\n",
    "    max_retries=2,\n",
    ")"
   ]
  },
  {
   "cell_type": "markdown",
   "metadata": {},
   "source": [
    "#### Summarization Example"
   ]
  },
  {
   "cell_type": "code",
   "execution_count": 16,
   "metadata": {},
   "outputs": [],
   "source": [
    "from langchain_core.prompts import ChatPromptTemplate\n",
    "\n",
    "prompt = ChatPromptTemplate.from_messages(\n",
    "    [\n",
    "        (\n",
    "            \"system\",\n",
    "            \"You are a lawyer who passionately defends privacy and user data rights, always advocating for the people. Your task is to summarize user input by breaking it down into clear, easy-to-understand points, ensuring that a 16-year-old can grasp the concepts. Avoid legal jargon and focus on making the key issues or ideas straightforward.\",\n",
    "        ),\n",
    "        (\"human\", \"{input}\"),\n",
    "    ]\n",
    ")\n",
    "\n",
    "chain = prompt | llm"
   ]
  },
  {
   "cell_type": "code",
   "execution_count": 17,
   "metadata": {},
   "outputs": [],
   "source": [
    "def read_agreement(file_path):\n",
    "    try:\n",
    "        with open(file_path, 'r') as file:\n",
    "            agreement = file.read()\n",
    "        return agreement\n",
    "    except FileNotFoundError:\n",
    "        return \"Error: File not found.\"\n",
    "    except Exception as e:\n",
    "        return f\"Error reading file: {str(e)}\"\n",
    "\n",
    "# Example usage\n",
    "file_path = '../../samples/apple.txt'\n",
    "agreement = read_agreement(file_path)"
   ]
  },
  {
   "cell_type": "code",
   "execution_count": 18,
   "metadata": {},
   "outputs": [],
   "source": [
    "\n",
    "output = chain.invoke(\n",
    "    {\n",
    "        \"input\": agreement,\n",
    "}\n",
    ")\n"
   ]
  },
  {
   "cell_type": "code",
   "execution_count": 19,
   "metadata": {},
   "outputs": [
    {
     "data": {
      "text/markdown": [
       "## Apple's Privacy Policy: What You Need to Know\n",
       "\n",
       "**1. Apple Collects Your Data:**\n",
       "\n",
       "* **What kind of data?**  Apple collects a lot of information about you, like your name, email, address, device information, purchase history, and even your location. They also collect data about how you use their products and services.\n",
       "* **Why do they collect it?** Apple uses this data to provide you with their services, process your transactions, communicate with you, prevent fraud, and improve their products.\n",
       "* **Can you choose not to share?** You don't have to share all this information, but if you don't, you might not be able to use some of Apple's products or services.\n",
       "\n",
       "**2. Your Privacy Rights:**\n",
       "\n",
       "* **You have control over your data:** You have the right to know what data Apple has about you, access it, correct it, transfer it to another company, restrict how they use it, and even delete it.\n",
       "* **How to exercise your rights:** You can do this through Apple's Data and Privacy page or by contacting them directly.\n",
       "* **Exceptions:** There are some situations where Apple might not be able to grant your request, like if they are legally required to keep certain information.\n",
       "\n",
       "**3. Apple Shares Your Data:**\n",
       "\n",
       "* **With whom?** Apple may share your data with their affiliated companies, service providers, partners, and developers.\n",
       "* **For what purpose?** They share your data to help them provide you with their services, process your transactions, and prevent fraud.\n",
       "* **Not for marketing:** Apple does not sell your data to third parties for their own marketing purposes.\n",
       "\n",
       "**4. Apple Protects Your Data:**\n",
       "\n",
       "* **Security measures:** Apple uses various security measures to protect your data, including administrative, technical, and physical safeguards.\n",
       "* **Children's privacy:** Apple has special protections in place for children under 13, requiring parental consent before collecting their data.\n",
       "\n",
       "**5. Cookies and Tracking:**\n",
       "\n",
       "* **What are cookies?** Cookies are small files that websites store on your computer to remember your preferences and track your activity.\n",
       "* **How does Apple use them?** Apple uses cookies to improve your experience, personalize your services, and measure the effectiveness of their advertising.\n",
       "* **Can you opt out?** You can choose to disable cookies in your browser settings.\n",
       "\n",
       "**6. International Data Transfers:**\n",
       "\n",
       "* **Data travels:** Apple may transfer your data to other countries, including the United States.\n",
       "* **Data protection:** Apple complies with laws on data transfer to ensure your data is protected wherever it is stored.\n",
       "\n",
       "**7. Contacting Apple:**\n",
       "\n",
       "* **Questions or concerns?** You can contact Apple directly with any questions or concerns about their privacy policy or practices.\n",
       "* **Complaints:** You can also file a complaint with the applicable regulator if you are not satisfied with Apple's response.\n",
       "\n",
       "**Remember:** It's important to read and understand Apple's Privacy Policy so you know how they are using your data and what your rights are. \n"
      ],
      "text/plain": [
       "<IPython.core.display.Markdown object>"
      ]
     },
     "metadata": {},
     "output_type": "display_data"
    }
   ],
   "source": [
    "display(Markdown(output.content))"
   ]
  },
  {
   "cell_type": "markdown",
   "metadata": {},
   "source": []
  },
  {
   "cell_type": "markdown",
   "metadata": {},
   "source": [
    "#### Validation Example"
   ]
  },
  {
   "cell_type": "code",
   "execution_count": 20,
   "metadata": {},
   "outputs": [],
   "source": [
    "validator_llm = ChatGoogleGenerativeAI(\n",
    "    model=\"gemini-1.5-flash\",\n",
    "    temperature=0,\n",
    "    max_tokens=None,\n",
    "    timeout=None,\n",
    "    max_retries=2,\n",
    ")\n",
    "\n",
    "prompt = ChatPromptTemplate.from_messages(\n",
    "    [\n",
    "        (\n",
    "            \"system\",\n",
    "            \"You are a meticulous lawyer with a sharp eye for detail, tasked with validating summaries. Your role is to thoroughly compare two documents: Text 1, the original agreement, and Text 2, its summary. Analyze both texts with precision, identifying whether Text 2 accurately reflects the key points, obligations, and nuances of Text 1. Provide a percentage accuracy score based on how well the summary captures the main content and subtleties of the original.\"        ),\n",
    "        (\"human\", \"{input}\"),\n",
    "    ]\n",
    ")\n",
    "\n",
    "chain2 = prompt | llm"
   ]
  },
  {
   "cell_type": "code",
   "execution_count": 21,
   "metadata": {},
   "outputs": [],
   "source": [
    "output2 = chain2.invoke(\n",
    "    {\n",
    "        \"input\": f\"Text1:'{agreement}' Text2:'{output.content}'\",\n",
    "}\n",
    ")"
   ]
  },
  {
   "cell_type": "code",
   "execution_count": 22,
   "metadata": {},
   "outputs": [
    {
     "data": {
      "text/markdown": [
       "## Accuracy Analysis of Apple Privacy Policy Summary\n",
       "\n",
       "Text 2, the summary, provides a generally accurate overview of Apple's Privacy Policy (Text 1). However, it lacks depth and omits crucial details, particularly regarding the specific types of data collected, the legal basis for data processing, and the nuances of data sharing. \n",
       "\n",
       "Here's a breakdown of the accuracy and omissions:\n",
       "\n",
       "**Accuracy:**\n",
       "\n",
       "* **Data Collection:** Text 2 accurately summarizes the broad categories of data Apple collects (account, device, contact, payment, transaction, usage, location, health, fitness, financial, government ID, and other information). \n",
       "* **Privacy Rights:** Text 2 correctly outlines the user's rights to access, correct, transfer, restrict, and delete their data.\n",
       "* **Data Sharing:** Text 2 accurately states that Apple does not sell user data for marketing purposes.\n",
       "* **Data Protection:** Text 2 accurately mentions Apple's use of security measures and special protections for children.\n",
       "* **Cookies:** Text 2 accurately describes the purpose of cookies and the option to disable them.\n",
       "* **International Data Transfers:** Text 2 accurately mentions data transfers to other countries and Apple's compliance with data transfer laws.\n",
       "* **Contacting Apple:** Text 2 accurately outlines the options for contacting Apple with questions or complaints.\n",
       "\n",
       "**Omissions:**\n",
       "\n",
       "* **Specific Data Collection:** Text 2 fails to mention the specific types of data collected within each category, such as the details of \"Device Information\" (e.g., browser type, device serial number) or \"Usage Data\" (e.g., browsing history, search history, app launches).\n",
       "* **Legal Basis for Processing:** Text 2 does not mention the legal basis for data processing, such as consent, contract fulfillment, legitimate interests, or legal obligations.\n",
       "* **Data Sharing Details:** Text 2 lacks detail regarding the specific types of third parties Apple shares data with (e.g., service providers, partners, developers, publishers) and the specific purposes for sharing (e.g., processing transactions, providing services, fraud prevention).\n",
       "* **Data Retention:** Text 2 omits information about Apple's data retention policies and the criteria for determining retention periods.\n",
       "* **Personalized Ads:** Text 2 does not explain the details of Apple's advertising platform, including the option to disable personalized ads and the use of the Advertising Identifier.\n",
       "* **Data Control:** Text 2 does not mention that the Apple entity controlling personal data may differ depending on the user's location.\n",
       "* **Global Privacy Standards:** Text 2 does not mention Apple's compliance with the Global Cross-Border Privacy Rules (CBPRs) System and the Global Privacy Recognition for Processors (PRP) System.\n",
       "* **Complaint Resolution:** Text 2 does not mention Apple's commitment to responding to privacy inquiries within seven days and taking steps to address negative impacts.\n",
       "\n",
       "**Accuracy Score:**\n",
       "\n",
       "Based on the omissions and lack of detail, Text 2 achieves a **60% accuracy score**. While it captures the general essence of Apple's Privacy Policy, it fails to convey the crucial nuances and specific details that users need to understand their privacy rights and how Apple handles their data. \n",
       "\n",
       "**Recommendation:**\n",
       "\n",
       "Text 2 needs significant expansion and clarification to accurately reflect the content of Text 1. It should include more specific details about the types of data collected, the legal basis for processing, the specific recipients of data sharing, and the nuances of data retention and international transfers. Additionally, it should highlight Apple's commitment to data security, children's privacy, and user rights. \n"
      ],
      "text/plain": [
       "<IPython.core.display.Markdown object>"
      ]
     },
     "metadata": {},
     "output_type": "display_data"
    }
   ],
   "source": [
    "display(Markdown(output2.content))"
   ]
  }
 ],
 "metadata": {
  "kernelspec": {
   "display_name": "venv",
   "language": "python",
   "name": "python3"
  },
  "language_info": {
   "codemirror_mode": {
    "name": "ipython",
    "version": 3
   },
   "file_extension": ".py",
   "mimetype": "text/x-python",
   "name": "python",
   "nbconvert_exporter": "python",
   "pygments_lexer": "ipython3",
   "version": "3.10.12"
  }
 },
 "nbformat": 4,
 "nbformat_minor": 2
}
